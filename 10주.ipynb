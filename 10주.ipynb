{
  "nbformat": 4,
  "nbformat_minor": 0,
  "metadata": {
    "colab": {
      "provenance": [],
      "authorship_tag": "ABX9TyP2R7qFwH3UESiCvq3aD9vw",
      "include_colab_link": true
    },
    "kernelspec": {
      "name": "python3",
      "display_name": "Python 3"
    },
    "language_info": {
      "name": "python"
    }
  },
  "cells": [
    {
      "cell_type": "markdown",
      "metadata": {
        "id": "view-in-github",
        "colab_type": "text"
      },
      "source": [
        "<a href=\"https://colab.research.google.com/github/2024twinkle/2024-6/blob/main/10%EC%A3%BC.ipynb\" target=\"_parent\"><img src=\"https://colab.research.google.com/assets/colab-badge.svg\" alt=\"Open In Colab\"/></a>"
      ]
    },
    {
      "cell_type": "markdown",
      "source": [
        "수학 점수가 평균점수이면 보통, 평균보다 높으면 잘함, 평균보다 낮으면 노력요함으로 출력하는 프로그램"
      ],
      "metadata": {
        "id": "-Bmh7y4pvKwP"
      }
    },
    {
      "cell_type": "code",
      "source": [],
      "metadata": {
        "id": "80ALUAnXvGO5"
      },
      "execution_count": null,
      "outputs": []
    },
    {
      "cell_type": "code",
      "source": [
        "# 학생의 이름, 수학 점수, 평균 점수를 입력받습니다.\n",
        "student_name = input(\"학생의 이름을 입력하세요: \")\n",
        "math_score = float(input(f\"{student_name}의 수학 점수를 입력하세요: \"))\n",
        "average_score = float(input(\"평균 점수를 입력하세요: \"))\n",
        "\n",
        "# 수학 점수와 평균 점수를 비교하여 결과를 출력합니다.\n",
        "if math_score > average_score:\n",
        "    result = \"잘함\"\n",
        "elif math_score == average_score:\n",
        "    result = \"보통\"\n",
        "else:\n",
        "    result = \"노력요함\"\n",
        "\n",
        "# 결과를 출력합니다.\n",
        "print(f\"{student_name}: {result}\")\n"
      ],
      "metadata": {
        "colab": {
          "base_uri": "https://localhost:8080/"
        },
        "id": "lWoE9mVIt36U",
        "outputId": "884fcf12-63dd-4e76-aef5-527bb4cfeb46"
      },
      "execution_count": null,
      "outputs": [
        {
          "output_type": "stream",
          "name": "stdout",
          "text": [
            "학생의 이름을 입력하세요: 김은정\n",
            "김은정의 수학 점수를 입력하세요: 70\n",
            "평균 점수를 입력하세요: 55\n",
            "김은정: 잘함\n"
          ]
        }
      ]
    }
  ]
}